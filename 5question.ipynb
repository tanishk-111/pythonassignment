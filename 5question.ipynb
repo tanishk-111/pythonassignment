{
 "cells": [
  {
   "cell_type": "markdown",
   "id": "d53b4302-42ab-4b1f-9aa8-bd4dc3b10e5f",
   "metadata": {},
   "source": [
    "1. Take the input from user and find whether number is prime or not?\n",
    "Prime numbers are number which are divide by 1 or themselves only.\n",
    "Example: 13 is a prime number.\n",
    "Example: 97 is a prime number"
   ]
  },
  {
   "cell_type": "code",
   "execution_count": 46,
   "id": "7b0c9d05-b9ec-4e92-923c-70cfb5639ed4",
   "metadata": {},
   "outputs": [
    {
     "name": "stdin",
     "output_type": "stream",
     "text": [
      "enter number: 12\n"
     ]
    },
    {
     "name": "stdout",
     "output_type": "stream",
     "text": [
      "is not prime\n"
     ]
    }
   ],
   "source": [
    "def prime_number(num):        \n",
    "        if num==0 or num==1:\n",
    "            print(\"not prime number\")\n",
    "        for i in range(2,int((num)**0.5)+1):\n",
    "            if num % i==0:\n",
    "                return(\"is not prime\")\n",
    "        \n",
    "        return \"is prime\"\n",
    "if __name__==\"__main__\":   \n",
    "    try:\n",
    "        num=int(input(\"enter number:\"))\n",
    "        print(prime_number(num))\n",
    "    except Exception as e:\n",
    "        print(e)\n",
    "        "
   ]
  },
  {
   "cell_type": "markdown",
   "id": "f140a074-c2d0-4c29-baea-4762d26ff338",
   "metadata": {
    "jp-MarkdownHeadingCollapsed": true
   },
   "source": [
    "2. Reverse the string using for loop.\\\n",
    "string = \"Python\"\\\n",
    "Expected output = \"nohtyP\""
   ]
  },
  {
   "cell_type": "code",
   "execution_count": 24,
   "id": "7481e02e-8896-46c5-8872-2946e48dea5e",
   "metadata": {},
   "outputs": [
    {
     "name": "stdin",
     "output_type": "stream",
     "text": [
      "enter string tanishk\n"
     ]
    },
    {
     "name": "stdout",
     "output_type": "stream",
     "text": [
      "khsinat\n"
     ]
    }
   ],
   "source": [
    "def reverse_str(obj):\n",
    "    reverse=\"\"\n",
    "    \n",
    "    for i in obj:\n",
    "        reverse=i+reverse\n",
    "    return reverse  \n",
    "if __name__==\"__main__\":       \n",
    "    try:\n",
    "        obj=input(\"enter string\")\n",
    "        print(reverse_str(obj))\n",
    "    except Exception as e:\n",
    "        print(e)"
   ]
  },
  {
   "cell_type": "markdown",
   "id": "065b0ae9-e345-471b-ab6c-9d3808438e1c",
   "metadata": {},
   "source": [
    "3. Palindrome Check (String Problem)\\\n",
    "Write a function to check whether a given string is a palindrome (a string that reads the same\n",
    "forward and backward is called palindrome).\\\n",
    "String = “mom” # if we reverse this string, we get the same Output “mom”\\\n",
    "Expected output: string is a palindrome."
   ]
  },
  {
   "cell_type": "code",
   "execution_count": 29,
   "id": "7f54d7af-4f31-4c98-9233-b247e6473b56",
   "metadata": {},
   "outputs": [
    {
     "name": "stdin",
     "output_type": "stream",
     "text": [
      "enter string: mom\n"
     ]
    },
    {
     "name": "stdout",
     "output_type": "stream",
     "text": [
      "palindrome\n"
     ]
    }
   ],
   "source": [
    "def palindrome(string):\n",
    "    string1=\"\"\n",
    "    for i in string:\n",
    "        string1=i+string1\n",
    "    if string==string1:\n",
    "        return \"palindrome\"\n",
    "    else:\n",
    "        return \"not palindrome\"\n",
    "if __name__==\"__main__\":        \n",
    "    try:\n",
    "        string=input(\"enter string:\")\n",
    "        print(palindrome(string))\n",
    "    except Exception as e:\n",
    "        print(e)"
   ]
  },
  {
   "cell_type": "markdown",
   "id": "7156ce41-42c1-4e3c-a6a5-08c6f466fac6",
   "metadata": {},
   "source": [
    "4. Calculate factorial of a number\n",
    "Write a function calculate_factorial that takes a number as input and returns its factorial. Handle\n",
    "cases where the input is not a non-negative integer or zero.\\\n",
    "Example: If number is 5 factorials will be (5x4x2x3x2x1=120)\n",
    "Expected output: 120 if number is 5"
   ]
  },
  {
   "cell_type": "code",
   "execution_count": 32,
   "id": "6758d852-f65a-43e7-bff6-026d805045a1",
   "metadata": {},
   "outputs": [
    {
     "name": "stdin",
     "output_type": "stream",
     "text": [
      "enter number 5\n"
     ]
    },
    {
     "name": "stdout",
     "output_type": "stream",
     "text": [
      "120\n"
     ]
    }
   ],
   "source": [
    "def factorial(num):\n",
    "    fact=1\n",
    "    for i in range(1,num+1):\n",
    "        fact*=i\n",
    "    return fact\n",
    "if __name__==\"__main__\":\n",
    "    try:\n",
    "        num=int(input(\"enter number\"))\n",
    "        print(factorial(num))\n",
    "    except Exception as e:\n",
    "        print(e)\n",
    "        "
   ]
  },
  {
   "cell_type": "markdown",
   "id": "5c389da1-7446-4843-b292-94902e267fcc",
   "metadata": {},
   "source": [
    "5. Find the Second Largest Element in a List using for loop.\\\n",
    "Write a function to find the second largest element in a list without using built-in sorting.\\\n",
    "Example\\\n",
    "Input: [7, 5, 8, 2, 10, 9]\\\n",
    "Expected Output: 9\\\n",
    "Example\\\n",
    "Input: [4, 4, 4, 4]\\\n",
    "Expected Output: None"
   ]
  },
  {
   "cell_type": "code",
   "execution_count": 3,
   "id": "1d050323-d567-4687-9047-ba48b2d35b0b",
   "metadata": {},
   "outputs": [
    {
     "name": "stdin",
     "output_type": "stream",
     "text": [
      "enter elements: 2,3,34,545,343,43,45,34,46\n"
     ]
    },
    {
     "name": "stdout",
     "output_type": "stream",
     "text": [
      "343\n"
     ]
    }
   ],
   "source": [
    "def second_largest(num):\n",
    "    num=list(map(int,num))\n",
    "    if len(num)<2:\n",
    "        return \"need more elements\"\n",
    "    largest=max(num)\n",
    "    num=[i for i in num if i!=largest]\n",
    "    if num==[]:\n",
    "        return \"no second largest\"\n",
    "    scnd_largest=max(num)\n",
    "    return scnd_largest\n",
    "\n",
    "if __name__==\"__main__\":\n",
    "    try:\n",
    "        num=input(\"enter elements:\").split(\",\")\n",
    "        print(second_largest(num))\n",
    "    except Exception as e:\n",
    "        print(e)\n",
    "    "
   ]
  },
  {
   "cell_type": "code",
   "execution_count": null,
   "id": "d61dd5b7-f01a-44fe-a9f0-b88124343d22",
   "metadata": {},
   "outputs": [],
   "source": []
  }
 ],
 "metadata": {
  "kernelspec": {
   "display_name": "Python 3 (ipykernel)",
   "language": "python",
   "name": "python3"
  },
  "language_info": {
   "codemirror_mode": {
    "name": "ipython",
    "version": 3
   },
   "file_extension": ".py",
   "mimetype": "text/x-python",
   "name": "python",
   "nbconvert_exporter": "python",
   "pygments_lexer": "ipython3",
   "version": "3.13.5"
  }
 },
 "nbformat": 4,
 "nbformat_minor": 5
}
