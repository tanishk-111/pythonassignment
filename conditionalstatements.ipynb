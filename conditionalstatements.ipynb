{
 "cells": [
  {
   "cell_type": "code",
   "execution_count": 3,
   "id": "2f018df3-a438-4fec-a6da-2a22c68f1884",
   "metadata": {},
   "outputs": [],
   "source": [
    "username_in_database=\"tanishk mahar\"\n",
    "password_in_database=\"Otanishk\""
   ]
  },
  {
   "cell_type": "code",
   "execution_count": 5,
   "id": "89a2a77d-7da9-4bef-888c-0f1cf2c4921f",
   "metadata": {},
   "outputs": [
    {
     "name": "stdin",
     "output_type": "stream",
     "text": [
      "enter your name tanishk mahar\n",
      "enter your password Otanishk\n"
     ]
    },
    {
     "name": "stdout",
     "output_type": "stream",
     "text": [
      "correct password and username\n"
     ]
    }
   ],
   "source": [
    "import webbrowser\n",
    "username=input(\"enter your name\").lower()\n",
    "password=input(\"enter your password\")\n",
    "if username == username_in_database and password == password_in_database:\n",
    "    print(\"correct password and username\")\n",
    "    webbrowser.open(\"www.youtube.com\")\n",
    "else:\n",
    "    print(\"wrong password and username\")"
   ]
  },
  {
   "cell_type": "markdown",
   "id": "35c4b418-8215-4061-8caa-4c0ed7c99de2",
   "metadata": {},
   "source": [
    "Q1. Write a program to accept percentage from the user and display\n",
    "the grade according to the following criteria:\n",
    "\n",
    "Marks Grade\n",
    "> 90 A\n",
    "> 80 and <= 90 B\n",
    ">= 60 and <= 80 C\n",
    "below 60 D"
   ]
  },
  {
   "cell_type": "code",
   "execution_count": 8,
   "id": "25dcb785-b944-4b25-92c8-3d2184fc737d",
   "metadata": {},
   "outputs": [
    {
     "name": "stdin",
     "output_type": "stream",
     "text": [
      "enter your marks 45\n"
     ]
    },
    {
     "name": "stdout",
     "output_type": "stream",
     "text": [
      "grade d\n"
     ]
    }
   ],
   "source": [
    "marks=float(input(\"enter your marks\"))\n",
    "if marks >=90:\n",
    "    print(\"grade A\")\n",
    "elif marks >80 and marks <= 90:\n",
    "    print(\"grade B\")\n",
    "elif marks >= 60 and marks <= 80:\n",
    "    print(\"grade c\")\n",
    "else:\n",
    "    print(\"grade d\")"
   ]
  },
  {
   "cell_type": "markdown",
   "id": "7a128d92-3823-473b-9bce-0deabc27c704",
   "metadata": {},
   "source": [
    "Q2. Write a program to calculate the electricity bill\n",
    "using only if statement? (accept number of unit from user)\n",
    "according to the following criteria:\n",
    "\n",
    "Unit Price\n",
    "First 100 units no charge\n",
    "Next 100 units Rs 5 per unit\n",
    "After 200 units Rs 10 per unit\n",
    "(For example, if input unit is 350 than total bill amount is Rs2000). Lets explain...\n",
    "For first 100 no charges\n",
    "Now you have 250 unit remaining\n",
    "100-200 you need to pay – 100*5 = 500\n",
    "Now 200-100 you need to pay 150*10 = 1500\n",
    "Total = 500+1500 = 2000"
   ]
  },
  {
   "cell_type": "code",
   "execution_count": 13,
   "id": "28910da2-3b6d-4617-829b-35ded69bb5ca",
   "metadata": {},
   "outputs": [
    {
     "name": "stdin",
     "output_type": "stream",
     "text": [
      "enter units 580\n"
     ]
    },
    {
     "name": "stdout",
     "output_type": "stream",
     "text": [
      "your electricity bill is 4300\n"
     ]
    }
   ],
   "source": [
    "number_of_units=int(input(\"enter units\"))\n",
    "if number_of_units <= 100:\n",
    "    bill = 0\n",
    "elif number_of_units <=200:\n",
    "    bill = (units-100)*5\n",
    "else:\n",
    "    bill =  (100 * 5) + (number_of_units - 200) * 10\n",
    "print(f\"your electricity bill is {bill}\")"
   ]
  },
  {
   "cell_type": "markdown",
   "id": "e4fa5b33-675e-4cf7-aa3b-5d1a5c8e098e",
   "metadata": {},
   "source": [
    "Q3. Accept the age of 4 people and display the youngest one?"
   ]
  },
  {
   "cell_type": "code",
   "execution_count": 15,
   "id": "0881e0bb-a26e-4a14-9e88-f10d9d7c5845",
   "metadata": {},
   "outputs": [
    {
     "name": "stdin",
     "output_type": "stream",
     "text": [
      "enter your age 34\n",
      "enter your age 23\n",
      "enter your age 12\n",
      "enter your age 13\n"
     ]
    },
    {
     "name": "stdout",
     "output_type": "stream",
     "text": [
      "the youngest one is 12\n"
     ]
    }
   ],
   "source": [
    "age1=int(input(\"enter your age\"))\n",
    "age2=int(input(\"enter your age\"))\n",
    "age3=int(input(\"enter your age\"))\n",
    "age4=int(input(\"enter your age\"))\n",
    "\n",
    "if(age1 <= age2 and age1 <= age3 and age1 <= age4):\n",
    "    youngest=age1\n",
    "elif(age2 <= age1 and age2 <= age3 and age2 <= age4):\n",
    "    youngest=age2\n",
    "elif(age3 <= age1 and age3 <= age2 and age3 <= age4):\n",
    "    youngest=age3\n",
    "else:\n",
    "    youngest=age4\n",
    "print(f\"the youngest one is {youngest}\")    "
   ]
  },
  {
   "cell_type": "markdown",
   "id": "d37c1a5f-485c-4100-9d12-4840a2d7b08c",
   "metadata": {},
   "source": [
    "Q4. A company decided to give bonus to employee\n",
    "according to following criteria:\n",
    "\n",
    "Time period of Service Bonus\n",
    "\n",
    "More than 10 years     10%\n",
    "\n",
    ">=6 and <=10           8%\n",
    "\n",
    "Less than 6 years      5%\n",
    "\n",
    "Ask user for their salary and years of service and print the\n",
    "net bonus amount?"
   ]
  },
  {
   "cell_type": "code",
   "execution_count": 22,
   "id": "439286b7-5fdd-4576-8c89-1b90e5e65ec7",
   "metadata": {},
   "outputs": [
    {
     "name": "stdin",
     "output_type": "stream",
     "text": [
      "enter your salary 580000\n",
      "enter your total years 12\n"
     ]
    },
    {
     "name": "stdout",
     "output_type": "stream",
     "text": [
      "the net bonus will be: 58000.0\n"
     ]
    }
   ],
   "source": [
    "user_salary=int(input(\"enter your salary\"))\n",
    "years_of_service=int(input(\"enter your total years\"))\n",
    "if(years_of_service > 10):\n",
    "    bonus = user_salary*0.10\n",
    "elif(years_of_service >=6 and years_of_service <= 10):\n",
    "    bonus = user_salary*0.08\n",
    "else:\n",
    "    bonus = user_salary*0.05\n",
    "\n",
    "print(f\"the net bonus will be: {bonus}\")\n",
    "    "
   ]
  },
  {
   "cell_type": "markdown",
   "id": "9ea8ef9c-b7f7-40d9-b4cc-73344725b29d",
   "metadata": {},
   "source": [
    "Q5. Accept three numbers from the user and\n",
    "display the second largest number?"
   ]
  },
  {
   "cell_type": "code",
   "execution_count": 26,
   "id": "e46309d4-79bc-4d00-9709-49f34408cc73",
   "metadata": {},
   "outputs": [
    {
     "name": "stdin",
     "output_type": "stream",
     "text": [
      "enter the number 6\n",
      "enter the number 12\n",
      "enter the number 9\n"
     ]
    },
    {
     "name": "stdout",
     "output_type": "stream",
     "text": [
      "the second largest number is 9\n"
     ]
    }
   ],
   "source": [
    "num1=int(input(\"enter the number\"))\n",
    "num2=int(input(\"enter the number\"))\n",
    "num3=int(input(\"enter the number\"))\n",
    "if (num1>=num2 and num1<=num3) or (num1>=num3 and num1<=num2):\n",
    "    second_largest=num1\n",
    "elif (num2>=num1 and num2<=num3) or (num2>=num3 and num2<=num1):\n",
    "    second_largest=num2\n",
    "else:\n",
    "    second_largest=num3\n",
    "\n",
    "print(f\"the second largest number is {second_largest}\")\n",
    "    "
   ]
  },
  {
   "cell_type": "markdown",
   "id": "ee827c52-96cd-424c-a4ae-baa39bef16f9",
   "metadata": {},
   "source": [
    "Q6. Accept the marked price from the user and calculate\n",
    "the Net amount as (Marked Price – Discount) to pay\n",
    "according to following criteria:\n",
    "\n",
    "Marked Price      Discount\n",
    ">10000            20%\n",
    ">7000 and <=10000 15%\n",
    "<=7000            10%"
   ]
  },
  {
   "cell_type": "code",
   "execution_count": 38,
   "id": "2ce04ab7-4300-48e1-8ac2-f0dd8de6efa0",
   "metadata": {},
   "outputs": [
    {
     "name": "stdin",
     "output_type": "stream",
     "text": [
      "enter the price 1000\n"
     ]
    },
    {
     "name": "stdout",
     "output_type": "stream",
     "text": [
      "discount amount is Rs100.0\n",
      "the net amount is Rs900.0\n"
     ]
    }
   ],
   "source": [
    "marked_price = float(input(\"enter the price\"))\n",
    "if(marked_price > 10000):\n",
    "    discount = marked_price * 0.20\n",
    "elif(marked_price > 7000 and marked_price <=10000):\n",
    "    discount = marked_price * 0.15\n",
    "else:\n",
    "    discount = marked_price * 0.10\n",
    "    \n",
    "net_amount = marked_price - discount\n",
    "print(f\"discount amount is Rs{discount}\")\n",
    "print(f\"the net amount is Rs{net_amount}\")\n",
    "    \n",
    "    \n",
    "                   "
   ]
  },
  {
   "cell_type": "markdown",
   "id": "4e2ebd25-8665-462e-9655-4344aa5c8ef4",
   "metadata": {},
   "source": [
    "Q7. Accept the marks of English, Math and Science,\n",
    "Social Studies Subject and display the stream allotted\n",
    "according to following:\n",
    "\n",
    "All Subjects more than 80 marks — Science Stream\n",
    "\n",
    "English >80 and Math, Science above 50 — Commerce Stream\n",
    "\n",
    "English > 80 and social studies > 80 — Humanities"
   ]
  },
  {
   "cell_type": "code",
   "execution_count": 45,
   "id": "6875157f-a206-4dbe-b83d-73e6a458a10e",
   "metadata": {},
   "outputs": [
    {
     "name": "stdin",
     "output_type": "stream",
     "text": [
      "enter your marks 45\n",
      "enter your marks 45\n",
      "enter your marks 45\n",
      "enter your marks 45\n"
     ]
    },
    {
     "name": "stdout",
     "output_type": "stream",
     "text": [
      "stream allotted is humanities\n"
     ]
    }
   ],
   "source": [
    "english=int(input(\"enter your marks\"))\n",
    "maths=int(input(\"enter your marks\"))\n",
    "science=int(input(\"enter your marks\"))        \n",
    "social_studies=int(input(\"enter your marks\"))\n",
    "if(english>80 and maths>80 and science>80 and social_studies > 80):\n",
    "    stream = \"science stream\"\n",
    "elif(english >80 and math>50 and science > 50):\n",
    "    stream = \"commerce\"\n",
    "else:\n",
    "    stream = \"humanities\"\n",
    "\n",
    "print(f\"stream allotted is {stream}\")\n",
    "\n",
    "                "
   ]
  },
  {
   "cell_type": "markdown",
   "id": "3aaccfd8-d1ec-4429-8dcc-dfff522e936e",
   "metadata": {},
   "source": [
    "Q8. Write a program to display \"Hello\" if a number entered\n",
    "by user is a multiple of five, otherwise print \"Bye\"?"
   ]
  },
  {
   "cell_type": "code",
   "execution_count": 52,
   "id": "2ad0017a-a78d-4b2c-9563-20780b77eba7",
   "metadata": {},
   "outputs": [
    {
     "name": "stdin",
     "output_type": "stream",
     "text": [
      "enter the number 4\n"
     ]
    },
    {
     "name": "stdout",
     "output_type": "stream",
     "text": [
      "bye\n"
     ]
    }
   ],
   "source": [
    "number=int(input(\"enter the number\"))\n",
    "if(number % 5 == 0):\n",
    "    print(\"hello\")\n",
    "else:\n",
    "    print(\"bye\")"
   ]
  },
  {
   "cell_type": "markdown",
   "id": "8a35b77e-40c6-4ff3-b872-1fe4c6c3620e",
   "metadata": {},
   "source": [
    "Q9. Write a program to check whether the last digit of a number\n",
    "(entered by user) is divisible by 3 or not?"
   ]
  },
  {
   "cell_type": "code",
   "execution_count": 55,
   "id": "7021d741-b335-412c-b3c5-ef757105af72",
   "metadata": {},
   "outputs": [
    {
     "name": "stdin",
     "output_type": "stream",
     "text": [
      "enter the number 43\n"
     ]
    },
    {
     "name": "stdout",
     "output_type": "stream",
     "text": [
      "last digit is divisible\n"
     ]
    }
   ],
   "source": [
    "num=int(input(\"enter the number\"))\n",
    "last_digit=num % 10\n",
    "if (last_digit % 3 == 0):\n",
    "    print(\"last digit is divisible\")\n",
    "else:\n",
    "    print(\"not divisible\")"
   ]
  },
  {
   "cell_type": "markdown",
   "id": "2cf3bccc-8535-4c96-9c5c-05597138c099",
   "metadata": {},
   "source": [
    "Q10. Write a program to check whether a number entered\n",
    "is three-digit number or not?"
   ]
  },
  {
   "cell_type": "code",
   "execution_count": 57,
   "id": "2c0129d9-3ec1-4a91-a9a5-85ecfc36cb5e",
   "metadata": {},
   "outputs": [
    {
     "name": "stdin",
     "output_type": "stream",
     "text": [
      "enter the number 100\n"
     ]
    },
    {
     "name": "stdout",
     "output_type": "stream",
     "text": [
      "is a three digit number\n"
     ]
    }
   ],
   "source": [
    "num=int(input(\"enter the number\"))\n",
    "if(num>99 and num<999):\n",
    "    print(\"is a three digit number\")\n",
    "else:\n",
    "    print(\"is not a three digit\")"
   ]
  },
  {
   "cell_type": "code",
   "execution_count": null,
   "id": "f4a992d6-fb01-45bc-8893-7c67d12fcf67",
   "metadata": {},
   "outputs": [],
   "source": []
  }
 ],
 "metadata": {
  "kernelspec": {
   "display_name": "Python 3 (ipykernel)",
   "language": "python",
   "name": "python3"
  },
  "language_info": {
   "codemirror_mode": {
    "name": "ipython",
    "version": 3
   },
   "file_extension": ".py",
   "mimetype": "text/x-python",
   "name": "python",
   "nbconvert_exporter": "python",
   "pygments_lexer": "ipython3",
   "version": "3.13.5"
  }
 },
 "nbformat": 4,
 "nbformat_minor": 5
}
