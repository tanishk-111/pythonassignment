{
 "cells": [
  {
   "cell_type": "markdown",
   "id": "d2c6dd0a-924e-46fb-9867-84bc5cf042a5",
   "metadata": {},
   "source": [
    "how do you concatenate two string?"
   ]
  },
  {
   "cell_type": "code",
   "execution_count": 4,
   "id": "0678b49c-2fd6-4c7e-a33c-018b6f63a9e5",
   "metadata": {},
   "outputs": [],
   "source": [
    "#by using \"+\" operator "
   ]
  },
  {
   "cell_type": "code",
   "execution_count": 9,
   "id": "d5fa162d-d106-44ad-bd4a-dbae8e7c20bc",
   "metadata": {},
   "outputs": [
    {
     "name": "stdout",
     "output_type": "stream",
     "text": [
      "hello world\n"
     ]
    }
   ],
   "source": [
    "print('hello ' + 'world')"
   ]
  },
  {
   "cell_type": "code",
   "execution_count": 10,
   "id": "54017fbb-ed40-4a17-a674-beb42b657e4b",
   "metadata": {},
   "outputs": [],
   "source": [
    "#by using join "
   ]
  },
  {
   "cell_type": "code",
   "execution_count": 11,
   "id": "12bd3da4-832b-4e2a-9a7a-8771cbd2775d",
   "metadata": {},
   "outputs": [],
   "source": [
    "list=['hello','world']"
   ]
  },
  {
   "cell_type": "code",
   "execution_count": 17,
   "id": "56dd6082-c292-419f-8163-e2b4090ae71a",
   "metadata": {},
   "outputs": [
    {
     "data": {
      "text/plain": [
       "'hello world'"
      ]
     },
     "execution_count": 17,
     "metadata": {},
     "output_type": "execute_result"
    }
   ],
   "source": [
    "\"\".join(['hello ','world'])"
   ]
  },
  {
   "cell_type": "markdown",
   "id": "dabae36b-9dd6-48ac-afa3-6f7aa03c94b0",
   "metadata": {},
   "source": [
    "what is the difference between \"+\" operator and the join for the concatination of strings?"
   ]
  },
  {
   "cell_type": "code",
   "execution_count": 18,
   "id": "51a767c4-29e3-4793-92d7-783b49644312",
   "metadata": {},
   "outputs": [],
   "source": [
    "# \"+\" operator is used to add two or more string,whereas the join is used to add elements present in a list."
   ]
  },
  {
   "cell_type": "markdown",
   "id": "7c83d03d-100d-4668-8768-d1b856e5b7e9",
   "metadata": {},
   "source": [
    "how do you access indiviual characters in a string?"
   ]
  },
  {
   "cell_type": "code",
   "execution_count": 22,
   "id": "4a8a882e-41b4-4946-a392-66f577769146",
   "metadata": {},
   "outputs": [
    {
     "data": {
      "text/plain": [
       "'h'"
      ]
     },
     "execution_count": 22,
     "metadata": {},
     "output_type": "execute_result"
    }
   ],
   "source": [
    "#by using indexing.\n",
    "string1=\"hi my name is \"\n",
    "string1[0]\n"
   ]
  },
  {
   "cell_type": "code",
   "execution_count": 23,
   "id": "3dba7abf-1583-4d97-9aa1-fd9648e03b67",
   "metadata": {},
   "outputs": [
    {
     "data": {
      "text/plain": [
       "'y'"
      ]
     },
     "execution_count": 23,
     "metadata": {},
     "output_type": "execute_result"
    }
   ],
   "source": [
    "string1[4]"
   ]
  },
  {
   "cell_type": "markdown",
   "id": "881896fb-c2cb-4e2d-af5d-f86b70492f5f",
   "metadata": {},
   "source": [
    "what method is used to find the lengt of the string in python?"
   ]
  },
  {
   "cell_type": "code",
   "execution_count": 26,
   "id": "b1d15ed1-35f1-4cd9-8fc1-0672ce0b1e66",
   "metadata": {},
   "outputs": [
    {
     "data": {
      "text/plain": [
       "7"
      ]
     },
     "execution_count": 26,
     "metadata": {},
     "output_type": "execute_result"
    }
   ],
   "source": [
    "#to find the length of a string we use len function,which is a predefined function.\n",
    "string=\"tanishk\"\n",
    "len(string)"
   ]
  },
  {
   "cell_type": "markdown",
   "id": "86847d6a-bdad-4e78-929d-a21f96ad49ca",
   "metadata": {},
   "source": [
    "how to convert a lowercase string to a uppercase string?"
   ]
  },
  {
   "cell_type": "code",
   "execution_count": 35,
   "id": "d706de21-168d-468b-84b6-eb66be38303b",
   "metadata": {},
   "outputs": [
    {
     "data": {
      "text/plain": [
       "'tanishk'"
      ]
     },
     "execution_count": 35,
     "metadata": {},
     "output_type": "execute_result"
    }
   ],
   "source": [
    "#to convert a uppercase  string to a lowercase string we use .upper() function\n",
    "string=\"TANISHK\"\n",
    "string.lower()"
   ]
  },
  {
   "cell_type": "markdown",
   "id": "d809854e-5602-4bd2-8cad-4154058aac60",
   "metadata": {},
   "source": [
    "how to convert a uppercase string to a lowercase string?"
   ]
  },
  {
   "cell_type": "code",
   "execution_count": 30,
   "id": "de4824f4-5d3f-4202-9987-21860cbf8f07",
   "metadata": {},
   "outputs": [
    {
     "data": {
      "text/plain": [
       "'TANISHK'"
      ]
     },
     "execution_count": 30,
     "metadata": {},
     "output_type": "execute_result"
    }
   ],
   "source": [
    "#to convert a lowercase string to a uppercase string we use .upper() function\n",
    "string=\"tanishk\"\n",
    "string.upper()"
   ]
  },
  {
   "cell_type": "markdown",
   "id": "15fbaf05-d261-4630-a652-9c785233aba5",
   "metadata": {},
   "source": [
    "what is the method used to replace substring within a string?"
   ]
  },
  {
   "cell_type": "code",
   "execution_count": 31,
   "id": "e5ad73ba-1b7f-47db-9b58-99063ee598a8",
   "metadata": {},
   "outputs": [
    {
     "data": {
      "text/plain": [
       "'hi tanishk'"
      ]
     },
     "execution_count": 31,
     "metadata": {},
     "output_type": "execute_result"
    }
   ],
   "source": [
    "#to replace substring within a string we use .replace()\n",
    "string=\"hello tanishk\"\n",
    "\"hello tanishk\".replace(\"hello\",\"hi\")"
   ]
  },
  {
   "cell_type": "markdown",
   "id": "81584769-e4dc-4727-a47a-ed6d5a024c7b",
   "metadata": {},
   "source": [
    "how can we split a string into a list of substring using a delimeter?\n"
   ]
  },
  {
   "cell_type": "code",
   "execution_count": 33,
   "id": "7c5a9ee8-dd23-4ad1-896b-370c47ed04d3",
   "metadata": {},
   "outputs": [
    {
     "data": {
      "text/plain": [
       "['this', 'is', 'python']"
      ]
     },
     "execution_count": 33,
     "metadata": {},
     "output_type": "execute_result"
    }
   ],
   "source": [
    "\"this is python\".split()"
   ]
  },
  {
   "cell_type": "code",
   "execution_count": 34,
   "id": "53763add-31a4-47b8-87fb-48f52bae6f24",
   "metadata": {},
   "outputs": [
    {
     "data": {
      "text/plain": [
       "['mahar.tanishk', 'gmail.com']"
      ]
     },
     "execution_count": 34,
     "metadata": {},
     "output_type": "execute_result"
    }
   ],
   "source": [
    "\"mahar.tanishk@gmail.com\".split(\"@\")"
   ]
  },
  {
   "cell_type": "markdown",
   "id": "4a79a1b9-8710-4510-b3c1-f4c6de91d3e3",
   "metadata": {},
   "source": [
    "how do you check if a strimg start with a particular substring?"
   ]
  },
  {
   "cell_type": "code",
   "execution_count": 36,
   "id": "635053ca-48c9-47fe-9779-e5f689a636fc",
   "metadata": {},
   "outputs": [
    {
     "data": {
      "text/plain": [
       "True"
      ]
     },
     "execution_count": 36,
     "metadata": {},
     "output_type": "execute_result"
    }
   ],
   "source": [
    "#we use .startswith('word')\n",
    "\"hello tanishk\".startswith(\"hello\")"
   ]
  },
  {
   "cell_type": "markdown",
   "id": "2082b0ef-67ac-477d-892a-73d502f3135e",
   "metadata": {},
   "source": [
    "how do you check if a strimg ends with a particular substring?"
   ]
  },
  {
   "cell_type": "code",
   "execution_count": 37,
   "id": "06e9f6d8-c3b0-4361-baf7-339f9662e6d2",
   "metadata": {},
   "outputs": [
    {
     "data": {
      "text/plain": [
       "True"
      ]
     },
     "execution_count": 37,
     "metadata": {},
     "output_type": "execute_result"
    }
   ],
   "source": [
    "#we use .endswith(\"word\")\n",
    "\"hello tanishk\".endswith(\"tanishk\")"
   ]
  },
  {
   "cell_type": "markdown",
   "id": "9deafa24-dd2f-4625-b5e1-56fae9bc472c",
   "metadata": {},
   "source": [
    "how do you remove leading and trailing whitespaces from string?"
   ]
  },
  {
   "cell_type": "code",
   "execution_count": 39,
   "id": "68553d21-6f5a-4e84-8824-be0adb44dfea",
   "metadata": {},
   "outputs": [
    {
     "data": {
      "text/plain": [
       "'hello word'"
      ]
     },
     "execution_count": 39,
     "metadata": {},
     "output_type": "execute_result"
    }
   ],
   "source": [
    "#we use strip() method to remove leading and trailing whitespaces from string\n",
    "\"        hello word      \".strip()"
   ]
  },
  {
   "cell_type": "markdown",
   "id": "5ab6a430-084e-4ee7-92f4-a718469dc4cd",
   "metadata": {},
   "source": [
    "what method is used to find the index of the first occurance of substring within a substring?"
   ]
  },
  {
   "cell_type": "code",
   "execution_count": 40,
   "id": "a29f175d-cdd9-467c-a1de-0f037566b9de",
   "metadata": {},
   "outputs": [
    {
     "data": {
      "text/plain": [
       "12"
      ]
     },
     "execution_count": 40,
     "metadata": {},
     "output_type": "execute_result"
    }
   ],
   "source": [
    "#we use .find() to find the index of the first occurance of substring within a substring\n",
    "\"hello world hi\".find(\"hi\")"
   ]
  },
  {
   "cell_type": "markdown",
   "id": "e0965aeb-fef0-48c3-8dad-7ddd8cef2440",
   "metadata": {},
   "source": [
    "how can you count the number of substring present within a string?"
   ]
  },
  {
   "cell_type": "code",
   "execution_count": 41,
   "id": "b4521c36-c67c-442f-91e4-1d83fa0fda0a",
   "metadata": {},
   "outputs": [
    {
     "data": {
      "text/plain": [
       "4"
      ]
     },
     "execution_count": 41,
     "metadata": {},
     "output_type": "execute_result"
    }
   ],
   "source": [
    "#we use .count() to count the number of substring present within a string\n",
    "\"hi tanishk hi hi you hi hello\".count(\"hi\")"
   ]
  },
  {
   "cell_type": "markdown",
   "id": "39511ab0-a4a3-47c6-b5db-434366b3dacb",
   "metadata": {},
   "source": [
    "how do you check if a string contains only alphabetic character?"
   ]
  },
  {
   "cell_type": "code",
   "execution_count": 43,
   "id": "fce849ea-4fb5-4c2f-b141-017bc2569a81",
   "metadata": {},
   "outputs": [
    {
     "data": {
      "text/plain": [
       "True"
      ]
     },
     "execution_count": 43,
     "metadata": {},
     "output_type": "execute_result"
    }
   ],
   "source": [
    "#we use isalpha() to check if a string contains only alphabetic character\n",
    "\"hitanishkmahar\".isalpha()"
   ]
  },
  {
   "cell_type": "code",
   "execution_count": 44,
   "id": "17356f78-c5ce-49f0-902d-92b8780c544d",
   "metadata": {},
   "outputs": [
    {
     "data": {
      "text/plain": [
       "False"
      ]
     },
     "execution_count": 44,
     "metadata": {},
     "output_type": "execute_result"
    }
   ],
   "source": [
    "\"hitanishkmaha10r\".isalpha()"
   ]
  },
  {
   "cell_type": "markdown",
   "id": "2386eef4-bd83-4b80-9912-3195d4c79391",
   "metadata": {},
   "source": [
    "How do you check if a string contains only numeric characters?"
   ]
  },
  {
   "cell_type": "code",
   "execution_count": 46,
   "id": "704d2e45-9f25-46c6-9832-61a62737517e",
   "metadata": {},
   "outputs": [
    {
     "name": "stdout",
     "output_type": "stream",
     "text": [
      "True\n",
      "True\n"
     ]
    }
   ],
   "source": [
    "# use the built-in string methods .isdigit() or .isnumeric()\n",
    "s = \"12345\"\n",
    "print(s.isdigit())\n",
    "s = \"12345\"\n",
    "print(s.isnumeric())"
   ]
  },
  {
   "cell_type": "markdown",
   "id": "b6eb4e90-f304-4626-9490-6ed20e695eec",
   "metadata": {},
   "source": [
    "How can you check if a string is a palindrome?"
   ]
  },
  {
   "cell_type": "code",
   "execution_count": 47,
   "id": "e212dbc9-7132-4efd-a001-9b09126b84c6",
   "metadata": {},
   "outputs": [
    {
     "name": "stdout",
     "output_type": "stream",
     "text": [
      "Palindrome\n"
     ]
    }
   ],
   "source": [
    "#To check if a string is a palindrome in Python, compare the string with its reverse using slicing (string[::-1])\n",
    "s = \"madam\"\n",
    "if s == s[::-1]:\n",
    "    print(\"Palindrome\")\n",
    "else:\n",
    "    print(\"Not Palindrome\")"
   ]
  },
  {
   "cell_type": "markdown",
   "id": "2dcdf860-2042-4dea-9800-0184a5550878",
   "metadata": {},
   "source": [
    "How can you reverse a string in Python?"
   ]
  },
  {
   "cell_type": "code",
   "execution_count": 48,
   "id": "0a4d8d34-6a5a-483f-b02e-d6061bc2fea9",
   "metadata": {},
   "outputs": [
    {
     "name": "stdout",
     "output_type": "stream",
     "text": [
      "olleh\n",
      "olleh\n"
     ]
    }
   ],
   "source": [
    "#by using reverse slicing and Using the reversed() Function and join()\n",
    "s = \"hello\"\n",
    "reversed_s = s[::-1]\n",
    "print(reversed_s)\n",
    "\n",
    "s = \"hello\"\n",
    "reversed_s = ''.join(reversed(s))\n",
    "print(reversed_s) "
   ]
  },
  {
   "cell_type": "markdown",
   "id": "c819b809-32f1-4293-9fcc-e973c4d4c83a",
   "metadata": {},
   "source": [
    "How do you format a string with placeholders for variable values?"
   ]
  },
  {
   "cell_type": "code",
   "execution_count": 49,
   "id": "ce2f1be9-32e6-4df6-8b75-6ee4277bf277",
   "metadata": {},
   "outputs": [
    {
     "name": "stdout",
     "output_type": "stream",
     "text": [
      "My name is Alice and I am 25 years old.\n"
     ]
    }
   ],
   "source": [
    "name = \"Alice\"\n",
    "age = 25\n",
    "formatted = f\"My name is {name} and I am {age} years old.\"\n",
    "print(formatted)"
   ]
  },
  {
   "cell_type": "markdown",
   "id": "b7cdc507-5f23-4e20-869e-0e501554412c",
   "metadata": {},
   "source": [
    "How do you access a substring of a string using slicing?"
   ]
  },
  {
   "cell_type": "code",
   "execution_count": 50,
   "id": "cbbadd91-c05c-4016-ac01-1eab482d5332",
   "metadata": {},
   "outputs": [
    {
     "name": "stdout",
     "output_type": "stream",
     "text": [
      "Hello\n"
     ]
    }
   ],
   "source": [
    "s = \"Hello, World!\"\n",
    "print(s[0:5]) "
   ]
  },
  {
   "cell_type": "markdown",
   "id": "22ebf186-71e5-44f5-beac-7aea02e52ee9",
   "metadata": {},
   "source": [
    "How can you remove specific characters from a string in Python?"
   ]
  },
  {
   "cell_type": "code",
   "execution_count": 52,
   "id": "8d00656d-4c6f-4b33-b297-7a5f91cd2eb3",
   "metadata": {},
   "outputs": [
    {
     "name": "stdout",
     "output_type": "stream",
     "text": [
      "heo word\n",
      "hello world\n"
     ]
    }
   ],
   "source": [
    "#Using replace() Method and by Using translate() Method with str.maketrans()\n",
    "s = \"hello world\"\n",
    "s = s.replace(\"l\", \"\")\n",
    "print(s) \n",
    "\n",
    "s = \"hello, world!\"\n",
    "remove_chars = \",!\"\n",
    "translation_table = str.maketrans(\"\", \"\", remove_chars)\n",
    "s = s.translate(translation_table)\n",
    "print(s) "
   ]
  },
  {
   "cell_type": "code",
   "execution_count": null,
   "id": "e63234d0-4e74-4912-834a-b819f7d58344",
   "metadata": {},
   "outputs": [],
   "source": []
  }
 ],
 "metadata": {
  "kernelspec": {
   "display_name": "Python 3 (ipykernel)",
   "language": "python",
   "name": "python3"
  },
  "language_info": {
   "codemirror_mode": {
    "name": "ipython",
    "version": 3
   },
   "file_extension": ".py",
   "mimetype": "text/x-python",
   "name": "python",
   "nbconvert_exporter": "python",
   "pygments_lexer": "ipython3",
   "version": "3.13.5"
  }
 },
 "nbformat": 4,
 "nbformat_minor": 5
}
