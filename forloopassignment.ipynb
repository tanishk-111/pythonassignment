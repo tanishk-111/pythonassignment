{
 "cells": [
  {
   "cell_type": "markdown",
   "id": "2c350e91-c6f1-410a-aef9-9b8a84038684",
   "metadata": {},
   "source": [
    " 1: Write a Python program to print all the numbers from 1 to 10 using a for loop."
   ]
  },
  {
   "cell_type": "code",
   "execution_count": 17,
   "id": "5ac2c05b-ca6d-4115-95f8-2983a278be61",
   "metadata": {},
   "outputs": [
    {
     "name": "stdout",
     "output_type": "stream",
     "text": [
      "1\n",
      "2\n",
      "3\n",
      "4\n",
      "5\n",
      "6\n",
      "7\n",
      "8\n",
      "9\n",
      "10\n"
     ]
    }
   ],
   "source": [
    "for items in range(1,11):\n",
    "    print(items)"
   ]
  },
  {
   "cell_type": "markdown",
   "id": "42caf4d7-a494-44d0-810c-d845cf2b57cf",
   "metadata": {},
   "source": [
    "2: Write a Python program to find the sum of all numbers from 1 to 100 using a for loop."
   ]
  },
  {
   "cell_type": "code",
   "execution_count": 7,
   "id": "09f09723-9cc3-41d6-b95e-00abf6296e30",
   "metadata": {},
   "outputs": [
    {
     "name": "stdout",
     "output_type": "stream",
     "text": [
      "sum of all numbers is: 5050\n"
     ]
    }
   ],
   "source": [
    "sum=0\n",
    "for i in range(1,101):\n",
    "    sum += i\n",
    "print(f\"sum of all numbers is: {sum}\")"
   ]
  },
  {
   "cell_type": "markdown",
   "id": "869a543e-db0f-43be-9558-fc35fc868cc4",
   "metadata": {},
   "source": [
    " 3: Write a Python program to print the multiplication table of a given number using a for loop. "
   ]
  },
  {
   "cell_type": "code",
   "execution_count": 15,
   "id": "9c05874a-e300-452a-89a0-608113d1b505",
   "metadata": {},
   "outputs": [
    {
     "name": "stdin",
     "output_type": "stream",
     "text": [
      "enter number 23\n"
     ]
    },
    {
     "name": "stdout",
     "output_type": "stream",
     "text": [
      "23 x 1 == 23\n",
      "23 x 2 == 46\n",
      "23 x 3 == 69\n",
      "23 x 4 == 92\n",
      "23 x 5 == 115\n",
      "23 x 6 == 138\n",
      "23 x 7 == 161\n",
      "23 x 8 == 184\n",
      "23 x 9 == 207\n",
      "23 x 10 == 230\n"
     ]
    }
   ],
   "source": [
    "number = int(input(\"enter number\"))\n",
    "for i in range(1,11):\n",
    "    print(f\"{number} x {i} == {number*i}\")\n",
    "     "
   ]
  },
  {
   "cell_type": "markdown",
   "id": "8872b513-a1cf-42e4-9f86-86daa2ad2190",
   "metadata": {},
   "source": [
    " 4: Write a Python program to count the number of even and odd numbers from a series of numbers using a for loop. Hint: Find even and odd from this list: [1, 2, 3, 4, 5, 6, 7, 8, 9, 10] "
   ]
  },
  {
   "cell_type": "code",
   "execution_count": 22,
   "id": "362e7523-680b-44f8-963c-38664e03585e",
   "metadata": {},
   "outputs": [
    {
     "name": "stdout",
     "output_type": "stream",
     "text": [
      "even numbers: 5\n",
      "odd numbers: 5\n"
     ]
    }
   ],
   "source": [
    "list=[1,2,3,4,5,6,7,8,9,10]\n",
    "even=0\n",
    "odd=0\n",
    "for i in list:\n",
    "    if (i % 2 == 0):\n",
    "        even += 1\n",
    "    else:\n",
    "        odd += 1\n",
    "print(f\"even numbers: {even}\")     \n",
    "print(f\"odd numbers: {odd}\") "
   ]
  },
  {
   "cell_type": "markdown",
   "id": "c3094f6b-1ad8-4845-bc14-5c438758d43c",
   "metadata": {},
   "source": [
    "5: Write a Python program to find the factorial of a number using a for loop."
   ]
  },
  {
   "cell_type": "code",
   "execution_count": 24,
   "id": "9e05be29-3404-4504-95b2-ac3ab5325f78",
   "metadata": {},
   "outputs": [
    {
     "name": "stdin",
     "output_type": "stream",
     "text": [
      "enter number 3\n"
     ]
    },
    {
     "name": "stdout",
     "output_type": "stream",
     "text": [
      "the factorial is: 6\n"
     ]
    }
   ],
   "source": [
    "num=int(input(\"enter number\"))\n",
    "factorial=1\n",
    "for i in range(1,num+1):\n",
    "    factorial*=i\n",
    "\n",
    "print(f\"the factorial is: {factorial}\")    "
   ]
  },
  {
   "cell_type": "markdown",
   "id": "0d37df87-ccfd-4d79-8428-4ad5b0af1993",
   "metadata": {},
   "source": [
    "6: Write a Python program to print the Fibonacci sequence up to a specified number using a for loop. "
   ]
  },
  {
   "cell_type": "code",
   "execution_count": 37,
   "id": "a5e4b0f3-5b22-4752-9339-22568e70a54c",
   "metadata": {},
   "outputs": [
    {
     "name": "stdin",
     "output_type": "stream",
     "text": [
      "enter number of terms 10\n"
     ]
    },
    {
     "name": "stdout",
     "output_type": "stream",
     "text": [
      "fibonacci sequence\n",
      "0 1 1 2 3 5 8 13 21 34 "
     ]
    }
   ],
   "source": [
    "a,b=0,1\n",
    "term=int(input(\"enter number of terms\"))\n",
    "print(\"fibonacci sequence\")\n",
    "for _ in range(term):\n",
    "    print(a,end=\" \")\n",
    "    a,b=b,a+b"
   ]
  },
  {
   "cell_type": "markdown",
   "id": "fcc7d2e6-9b37-415f-b004-9e44c1cfcc6c",
   "metadata": {},
   "source": [
    "7: Write a Python program to check if a given number is prime or not using a for loop. "
   ]
  },
  {
   "cell_type": "code",
   "execution_count": 40,
   "id": "43f3de1c-bcb0-4c3b-bfcf-5ced9ec1bee8",
   "metadata": {},
   "outputs": [
    {
     "name": "stdin",
     "output_type": "stream",
     "text": [
      "enter number 13\n"
     ]
    },
    {
     "name": "stdout",
     "output_type": "stream",
     "text": [
      "prime number\n"
     ]
    }
   ],
   "source": [
    "num=int(input(\"enter number\"))\n",
    "if num < 0:\n",
    "    print(\"negative number\")\n",
    "elif num == 1:\n",
    "    print(\"not a prime number\")\n",
    "else:\n",
    "    for i in range(2,int((num)**0.5)):\n",
    "        if number%i==0:\n",
    "            print(\"not a prime number\")\n",
    "            break\n",
    "    else:\n",
    "        print(\"prime number\")"
   ]
  },
  {
   "cell_type": "markdown",
   "id": "26b895f7-65d2-4336-979a-1ca5878dd5bd",
   "metadata": {},
   "source": [
    " 8: Write a Python program to find the largest element in a list using a for loop. "
   ]
  },
  {
   "cell_type": "code",
   "execution_count": 53,
   "id": "7af18fc6-1918-4f1e-8753-f60d124114e0",
   "metadata": {},
   "outputs": [
    {
     "name": "stdin",
     "output_type": "stream",
     "text": [
      "the elements of the list 1,2,3,4,5,6,7,8,9\n"
     ]
    },
    {
     "name": "stdout",
     "output_type": "stream",
     "text": [
      "largest element is: 9\n"
     ]
    }
   ],
   "source": [
    "elements = input(\"the elements of the list\")\n",
    "list=elements.split(\",\")\n",
    "max=int(list[0])\n",
    "for item in list:\n",
    "    if int(item)>max:\n",
    "        max=int(item)\n",
    "print(f\"largest element is: {max}\")"
   ]
  },
  {
   "cell_type": "markdown",
   "id": "ced1a136-5fff-42d8-8f7b-50fc32677b71",
   "metadata": {},
   "source": [
    " 9: Write a Python program to reverse a given string using a for loop."
   ]
  },
  {
   "cell_type": "code",
   "execution_count": 43,
   "id": "75483850-fe40-4e73-b296-578ddc9e2066",
   "metadata": {},
   "outputs": [
    {
     "name": "stdin",
     "output_type": "stream",
     "text": [
      "enter string tanishk\n"
     ]
    },
    {
     "name": "stdout",
     "output_type": "stream",
     "text": [
      "reverse string: khsinat \n"
     ]
    }
   ],
   "source": [
    "string=input(\"enter string\")\n",
    "reverse=\" \"\n",
    "for char in string:\n",
    "    reverse=char+reverse\n",
    "print(f\"reverse string: {reverse}\")    "
   ]
  },
  {
   "cell_type": "markdown",
   "id": "9e02af1f-cc16-4200-b748-f6e5fa3153a9",
   "metadata": {},
   "source": [
    "10: Write a Python program to find the common elements between two lists using a for loop. List1 = [1,2,3] List2 = [4,5,1] # common element is 1\n"
   ]
  },
  {
   "cell_type": "code",
   "execution_count": 58,
   "id": "3ed705dd-ec96-43d8-847c-e59341f12ab1",
   "metadata": {},
   "outputs": [
    {
     "name": "stdout",
     "output_type": "stream",
     "text": [
      "the comman element is: []\n"
     ]
    }
   ],
   "source": [
    "list1=[1,2,3]\n",
    "list2=[5,4,2]\n",
    "comman_element=[]\n",
    "for i in list1:\n",
    "    if i in list2:\n",
    "        comman_element+=i\n",
    "print(f\"the comman element is: {comman_element}\")        "
   ]
  },
  {
   "cell_type": "code",
   "execution_count": null,
   "id": "85313bbf-e51f-4cb5-a92b-e380ecf9dfcf",
   "metadata": {},
   "outputs": [],
   "source": []
  }
 ],
 "metadata": {
  "kernelspec": {
   "display_name": "Python 3 (ipykernel)",
   "language": "python",
   "name": "python3"
  },
  "language_info": {
   "codemirror_mode": {
    "name": "ipython",
    "version": 3
   },
   "file_extension": ".py",
   "mimetype": "text/x-python",
   "name": "python",
   "nbconvert_exporter": "python",
   "pygments_lexer": "ipython3",
   "version": "3.13.5"
  }
 },
 "nbformat": 4,
 "nbformat_minor": 5
}
